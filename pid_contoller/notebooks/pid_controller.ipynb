{
 "cells": [
  {
   "cell_type": "code",
   "execution_count": null,
   "metadata": {},
   "outputs": [],
   "source": [
    "%load_ext autoreload\n",
    "%autoreload 2\n",
    "\n",
    "# Matplotlib DEBUG logging spits out a whole bunch of crap\n",
    "import logging\n",
    "import matplotlib\n",
    "mpl_logger = logging.getLogger('matplotlib')\n",
    "mpl_logger.setLevel(logging.WARNING)\n",
    "font = {'family': 'normal',\n",
    "        'weight': 'bold',\n",
    "        'size': 12}\n",
    "matplotlib.rc('font', **font)\n",
    "from context import pid_controller"
   ]
  },
  {
   "cell_type": "code",
   "execution_count": null,
   "metadata": {},
   "outputs": [],
   "source": [
    "from copy import deepcopy\n",
    "\n",
    "import matplotlib.pyplot as plt\n",
    "from ipywidgets import interact, interactive, fixed, interact_manual\n",
    "import ipywidgets as widgets\n",
    "from ipywidgets import Layout\n",
    "\n",
    "from pid_controller.controller import LinearSystem, Sensor, ProportionalController, ProportionalDifferentialController, MassSystem, PidController\n",
    "from pid_controller.loop import closed_loop\n",
    "from pid_controller.plotting import setup_plt_figure\n",
    "from pid_controller.plotting import plot_control_loop_output"
   ]
  },
  {
   "cell_type": "code",
   "execution_count": null,
   "metadata": {},
   "outputs": [],
   "source": [
    "layout = Layout(width='50%', description_width='initial')\n",
    "style = {'description_width': '30%'}\n",
    "\n",
    "widget_sliders = {\n",
    "    'init_state':         widgets.FloatSlider(value=1.0, min=-10, max=10, step=0.1, description='Initial Position', layout=layout, style=style),\n",
    "    'desired_state':      widgets.FloatSlider(value=5.0, min=-10, max=10, step=0.1, description='Desired Position', layout=layout, style=style),\n",
    "    'system_noise_std':   widgets.FloatSlider(value=0.05, min=0.0, max=0.2, step=0.001, readout_format='.3f', description='System Noise', layout=layout, style=style),\n",
    "    'sensor_noise_std':   widgets.FloatSlider(value=0.05, min=0.0, max=0.5, step=0.001, description='Sensor Noise', layout=layout, style=style),\n",
    "    'p_gain':             widgets.FloatSlider(value=0.01, min=-1.0, max=3.0, step=0.05, description='Gain', layout=layout, style=style),\n",
    "    'eps':                widgets.FloatSlider(value=0.001, min=0.0001, max=0.1, step=0.001, description='Setpoint Accuracy', layout=layout, style=style),\n",
    "    'time_delta':         widgets.FloatSlider(value=1.0, min=0.001, max=5.0, step=0.01, description='Time Step', layout=layout, style=style),\n",
    "    'max_steps':          widgets.FloatSlider(value=200, min=1, max=1000, step=10, description='Max Steps', layout=layout, style=style),\n",
    "    'max_time':           widgets.FloatSlider(value=200, min=1, max=1000, step=10, description='Max Time', layout=layout, style=style)\n",
    "}\n",
    "\n",
    "@interact(**widget_sliders)\n",
    "def run_p_control(init_state, system_noise_std, sensor_noise_std, p_gain, desired_state, eps, time_delta, max_steps, max_time):\n",
    "    linear_system = LinearSystem(init_state, system_noise_std)\n",
    "    sensor = Sensor(noise_std=sensor_noise_std)\n",
    "    p_controller = ProportionalController(p_gain)\n",
    "\n",
    "    output_generator = closed_loop(linear_system, p_controller, sensor, desired_state=desired_state, init_velocity=0.0,\n",
    "                                   eps=eps, time_delta=time_delta, max_steps=max_steps, max_time=max_time)\n",
    "\n",
    "    fig = plot_control_loop_output(output_generator, p_controller)"
   ]
  },
  {
   "cell_type": "code",
   "execution_count": null,
   "metadata": {},
   "outputs": [],
   "source": [
    "INIT_STATE        = 1\n",
    "INIT_VELOCITY     = 0\n",
    "DESIRED_STATE     = 10.0\n",
    "DESIRED_VELOCITY  = 0\n",
    "SYSTEM_NOISE_STD  = 0.0001\n",
    "SENSOR_NOISE_STD  = 0.00001\n",
    "P_GAIN            = 0.0001\n",
    "D_GAIN            = 0.016\n",
    "I_GAIN            = 0\n",
    "EPS               = 0.00001\n",
    "TIME_DELTA        = 1.0\n",
    "MAX_STEPS         = 20000\n",
    "MAX_TIME          = 20000\n",
    "PRINT_DEBUG       = False\n",
    "\n",
    "system = MassSystem(init_state=INIT_STATE, init_velocity=INIT_VELOCITY, system_noise_std=SYSTEM_NOISE_STD, delta_time=TIME_DELTA)\n",
    "sensor = Sensor(noise_std=SENSOR_NOISE_STD)\n",
    "pd_controller = PidController(p_gain=P_GAIN, d_gain=D_GAIN, i_gain=I_GAIN)\n",
    "\n",
    "output_generator = closed_loop(system, pd_controller, sensor, desired_state=DESIRED_STATE, init_velocity=INIT_VELOCITY, desired_velocity=DESIRED_VELOCITY, \n",
    "                               eps=EPS, time_delta=TIME_DELTA, max_steps=MAX_STEPS, max_time=MAX_TIME, print_debug=PRINT_DEBUG)\n",
    "\n",
    "\n",
    "fig = plot_control_loop_output(output_generator, pd_controller)"
   ]
  },
  {
   "cell_type": "code",
   "execution_count": null,
   "metadata": {},
   "outputs": [],
   "source": []
  }
 ],
 "metadata": {
  "kernelspec": {
   "display_name": "pid_controller_env",
   "language": "python",
   "name": "pid_controller_env"
  },
  "language_info": {
   "codemirror_mode": {
    "name": "ipython",
    "version": 3
   },
   "file_extension": ".py",
   "mimetype": "text/x-python",
   "name": "python",
   "nbconvert_exporter": "python",
   "pygments_lexer": "ipython3",
   "version": "3.8.5"
  }
 },
 "nbformat": 4,
 "nbformat_minor": 4
}
