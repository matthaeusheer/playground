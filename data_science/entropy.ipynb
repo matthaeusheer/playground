{
 "cells": [
  {
   "cell_type": "code",
   "execution_count": null,
   "metadata": {},
   "outputs": [],
   "source": [
    "import math\n",
    "\n",
    "import numpy as np\n",
    "import matplotlib.pyplot as plt"
   ]
  },
  {
   "cell_type": "code",
   "execution_count": null,
   "metadata": {},
   "outputs": [],
   "source": [
    "def plot_entropy(dist: str, **kwargs) -> None:\n",
    "    \"\"\"Plots the entropy for different discrete distributions.\"\"\"\n",
    "    p_values = list(np.linspace(0.001, 0.999, 100))\n",
    "    entropies = []\n",
    "    for p in p_values:\n",
    "        if dist == 'bernoulli':\n",
    "            q = 1.0 - p\n",
    "            entropy = -p * math.log2(p+1e-5) - q * math.log2(q+1e-5)\n",
    "            entropies.append(entropy)\n",
    "        elif dist == 'binomial':\n",
    "            entropy = 0.5 * math.log2(2*math.pi*math.e*kwargs.get('n')*p*(1-p)+1e-5)\n",
    "            entropies.append(entropy)\n",
    "    plt.plot(p_values, entropies, label=dist)\n",
    "    plt.xlabel('p')\n",
    "    plt.ylabel('H')\n",
    "    plt.legend()\n",
    "    \n",
    "plot_entropy('bernoulli')\n",
    "plot_entropy('binomial', n=100)"
   ]
  },
  {
   "cell_type": "markdown",
   "metadata": {},
   "source": [
    "High uncertainty of the outcome (i.e. p=0.5) has the highest entropy"
   ]
  },
  {
   "cell_type": "code",
   "execution_count": null,
   "metadata": {},
   "outputs": [],
   "source": []
  }
 ],
 "metadata": {
  "kernelspec": {
   "display_name": "treatment-planner-env",
   "language": "python",
   "name": "treatment-planner-env"
  },
  "language_info": {
   "codemirror_mode": {
    "name": "ipython",
    "version": 3
   },
   "file_extension": ".py",
   "mimetype": "text/x-python",
   "name": "python",
   "nbconvert_exporter": "python",
   "pygments_lexer": "ipython3",
   "version": "3.9.0"
  }
 },
 "nbformat": 4,
 "nbformat_minor": 4
}
